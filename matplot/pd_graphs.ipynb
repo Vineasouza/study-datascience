{
 "cells": [
  {
   "cell_type": "code",
   "execution_count": 81,
   "metadata": {},
   "outputs": [],
   "source": [
    "# importando bibliotecas\n",
    "\n",
    "import pandas as pd\n",
    "import csv\n",
    "import matplotlib.pyplot as plt\n",
    "import matplotlib as mpl\n",
    "import numpy as np\n",
    "from io import StringIO\n",
    "\n",
    "#datasetReviewed.csv"
   ]
  },
  {
   "cell_type": "code",
   "execution_count": 6,
   "metadata": {},
   "outputs": [
    {
     "name": "stdout",
     "output_type": "stream",
     "text": [
      "                             company  polaridade\n",
      "tweet_id                                        \n",
      "1128984581330407424  BANCO DO BRASIL           0\n",
      "1128600913092857856         IGUATEMI           1\n",
      "1128245224294293504              IRB           1\n",
      "1127542253159952384             ITAÚ           1\n",
      "1127153121363419137         IGUATEMI           1\n",
      "...                              ...         ...\n",
      "846478513842651136         SANTANDER           0\n",
      "846011317156827137        VIA VAREJO           0\n",
      "845265994608193536        VIA VAREJO           0\n",
      "844949553161932803          USIMINAS           0\n",
      "844237866146447360        VIA VAREJO           0\n",
      "\n",
      "[2830 rows x 2 columns]\n"
     ]
    }
   ],
   "source": [
    "df = pd.read_csv('datasetReviewed.csv',index_col='tweet_id', usecols=['tweet_id', 'company', 'polaridade'])\n",
    "print(df)"
   ]
  },
  {
   "cell_type": "code",
   "execution_count": 171,
   "metadata": {},
   "outputs": [],
   "source": [
    "company_name = ['AZUL', 'B2W', 'B3', 'BANCO DO BRASIL', 'BR MALLS', 'BRADESCO', 'BRADESPAR', 'BRASKEM', 'BRF', 'CCR', 'CEMIG', 'CIELO', 'COSAN', 'CSN', 'CVC', 'CYRELA', 'ECORODOVIAS', 'ELETROBRAS', 'EMBRAER', 'ENERGIAS', 'ENGIE', 'EQUATORIAL', 'ESTACIO', 'FLEURY', 'GERDAU', 'GOL', 'HYPERA', 'IGUATEMI', 'IRB', 'ITAÚ', 'ITAÚSA', 'JBS', 'KLABIN', 'KROTON', 'LOCALIZA', 'LOJAS AMERICANAS', 'MAGAZINE LUIZA', 'MARFRIG', 'MRV', 'MULTIPLAN', 'NATURA', 'PÃO DE AÇÚCAR', 'PETROBRAS', 'QUALICORP', 'RAIA DROGASIL', 'RENNER', 'RUMO', 'SABESP', 'SANTANDER', 'SMILES', 'SUZANO', 'TAESA', 'TIM', 'ULTRAPAR', 'USIMINAS', 'VALE', 'VIA VAREJO', 'VIVO', 'WEG']\n",
    "\n",
    "array_length = len(company_name)\n",
    "\n",
    "for i in range(array_length):\n",
    "    df_company_name = df[df['company']==company_name[i]]\n",
    "    df_company_name.to_csv('data_csv/' + company_name[i] + '.csv')"
   ]
  },
  {
   "cell_type": "code",
   "execution_count": 173,
   "metadata": {},
   "outputs": [
    {
     "name": "stdout",
     "output_type": "stream",
     "text": [
      "[5, 7, 17]\n"
     ]
    },
    {
     "data": {
      "image/png": "[encoded data removed]",
      "text/plain": [
       "<Figure size 432x288 with 1 Axes>"
      ]
     },
     "metadata": {
      "needs_background": "light"
     },
     "output_type": "display_data"
    }
   ],
   "source": [
    "i = 0\n",
    "\n",
    "sum_0 = 0\n",
    "sum_1 = 0\n",
    "sum_n1 = 0\n",
    "sum_x = [sum_n1, sum_0, sum_1]\n",
    "\n",
    "\n",
    "with open('data_csv/' + company_name[i] + '.csv','r') as csvfile:\n",
    "    plots = csv.reader(csvfile, delimiter=',')\n",
    "    next(plots)\n",
    "    for row in plots:\n",
    "        if int(row[2]) == 0:\n",
    "            sum_x[1]+=1\n",
    "        elif int(row[2]) == 1:\n",
    "            sum_x[2]+=1\n",
    "        elif int(row[2]) == -1:\n",
    "            sum_x[0]+=1\n",
    "\n",
    "x = np.arange(len(sum_x))\n",
    "print(sum_x)\n",
    "plt.bar(x, sum_x)\n",
    "plt.xticks(x, ('-1','0','1'))\n",
    "plt.title(company_name[i] + ' polaridade count')\n",
    "plt.grid(b=True, which='major', axis='both')\n",
    "plt.savefig('./data_photo/' + company_name[i] + '.png', dpi=150)"
   ]
  },
  {
   "cell_type": "code",
   "execution_count": null,
   "metadata": {},
   "outputs": [],
   "source": []
  }
 ],
 "metadata": {
  "kernelspec": {
   "display_name": "Python 3",
   "language": "python",
   "name": "python3"
  },
  "language_info": {
   "codemirror_mode": {
    "name": "ipython",
    "version": 3
   },
   "file_extension": ".py",
   "mimetype": "text/x-python",
   "name": "python",
   "nbconvert_exporter": "python",
   "pygments_lexer": "ipython3",
   "version": "3.6.9"
  }
 },
 "nbformat": 4,
 "nbformat_minor": 2
}
