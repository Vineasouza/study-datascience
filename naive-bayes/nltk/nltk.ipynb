{
 "cells": [
  {
   "cell_type": "code",
   "execution_count": 4,
   "metadata": {},
   "outputs": [
    {
     "data": {
      "text/plain": [
       "{'last_letter': 'k'}"
      ]
     },
     "execution_count": 4,
     "metadata": {},
     "output_type": "execute_result"
    }
   ],
   "source": [
    "def gender_features(word):\n",
    "    return {'last_letter': word[-1]}\n",
    "\n",
    "gender_features('Shrek')"
   ]
  },
  {
   "cell_type": "code",
   "execution_count": 9,
   "metadata": {},
   "outputs": [],
   "source": [
    "import nltk\n",
    "from nltk.corpus import names\n",
    "labeled_names = ([(name, 'male') for name in names.words('male.txt')] + [(name, 'female') for name in names.words('female.txt')])"
   ]
  },
  {
   "cell_type": "code",
   "execution_count": 10,
   "metadata": {},
   "outputs": [],
   "source": [
    "import random\n",
    "random.shuffle(labeled_names)"
   ]
  },
  {
   "cell_type": "code",
   "execution_count": 11,
   "metadata": {},
   "outputs": [],
   "source": [
    "featuresets = [(gender_features(n), gender) for (n, gender) in labeled_names]\n",
    "train_set, test_set = featuresets[500:], featuresets[:500]\n",
    "classifier = nltk.NaiveBayesClassifier.train(train_set)"
   ]
  },
  {
   "cell_type": "code",
   "execution_count": 12,
   "metadata": {},
   "outputs": [
    {
     "data": {
      "text/plain": [
       "'male'"
      ]
     },
     "execution_count": 12,
     "metadata": {},
     "output_type": "execute_result"
    }
   ],
   "source": [
    "classifier.classify(gender_features('Neo'))"
   ]
  },
  {
   "cell_type": "code",
   "execution_count": 13,
   "metadata": {},
   "outputs": [
    {
     "data": {
      "text/plain": [
       "'female'"
      ]
     },
     "execution_count": 13,
     "metadata": {},
     "output_type": "execute_result"
    }
   ],
   "source": [
    "classifier.classify(gender_features('Trinity'))"
   ]
  },
  {
   "cell_type": "code",
   "execution_count": 14,
   "metadata": {},
   "outputs": [
    {
     "name": "stdout",
     "output_type": "stream",
     "text": [
      "0.764\n"
     ]
    }
   ],
   "source": [
    "print(nltk.classify.accuracy(classifier, test_set))"
   ]
  },
  {
   "cell_type": "code",
   "execution_count": 15,
   "metadata": {},
   "outputs": [
    {
     "name": "stdout",
     "output_type": "stream",
     "text": [
      "Most Informative Features\n",
      "             last_letter = 'a'            female : male   =     37.2 : 1.0\n",
      "             last_letter = 'k'              male : female =     32.3 : 1.0\n",
      "             last_letter = 'f'              male : female =     16.0 : 1.0\n",
      "             last_letter = 'p'              male : female =     10.5 : 1.0\n",
      "             last_letter = 'v'              male : female =      9.8 : 1.0\n",
      "             last_letter = 'd'              male : female =      9.7 : 1.0\n",
      "             last_letter = 'm'              male : female =      8.6 : 1.0\n",
      "             last_letter = 'o'              male : female =      8.4 : 1.0\n",
      "             last_letter = 'r'              male : female =      6.4 : 1.0\n",
      "             last_letter = 'g'              male : female =      4.9 : 1.0\n",
      "             last_letter = 'w'              male : female =      4.8 : 1.0\n",
      "             last_letter = 's'              male : female =      4.5 : 1.0\n",
      "             last_letter = 'z'              male : female =      4.3 : 1.0\n",
      "             last_letter = 't'              male : female =      4.1 : 1.0\n",
      "             last_letter = 'j'              male : female =      4.0 : 1.0\n",
      "             last_letter = 'b'              male : female =      3.8 : 1.0\n",
      "             last_letter = 'i'            female : male   =      3.6 : 1.0\n",
      "             last_letter = 'u'              male : female =      3.3 : 1.0\n",
      "             last_letter = 'n'              male : female =      2.1 : 1.0\n",
      "             last_letter = 'x'              male : female =      1.9 : 1.0\n",
      "             last_letter = 'l'              male : female =      1.8 : 1.0\n",
      "             last_letter = 'e'            female : male   =      1.8 : 1.0\n",
      "             last_letter = 'h'              male : female =      1.4 : 1.0\n",
      "             last_letter = 'y'              male : female =      1.2 : 1.0\n"
     ]
    }
   ],
   "source": [
    "classifier.show_most_informative_features(26)"
   ]
  },
  {
   "cell_type": "code",
   "execution_count": 16,
   "metadata": {},
   "outputs": [],
   "source": [
    "def gender_features2(name):\n",
    "    features = {}\n",
    "    features[\"first_letter\"] = name[0].lower()\n",
    "    features[\"last_letter\"] = name[-1].lower()\n",
    "    for letter in 'abcdefghijklmnopqrstuvwxyz':\n",
    "        features[\"count({})\".format(letter)] = name.lower().count(letter)\n",
    "        features[\"has({})\".format(letter)] = (letter in name.lower())\n",
    "    return features"
   ]
  },
  {
   "cell_type": "code",
   "execution_count": 17,
   "metadata": {},
   "outputs": [
    {
     "data": {
      "text/plain": [
       "{'first_letter': 'j',\n",
       " 'last_letter': 'n',\n",
       " 'count(a)': 0,\n",
       " 'has(a)': False,\n",
       " 'count(b)': 0,\n",
       " 'has(b)': False,\n",
       " 'count(c)': 0,\n",
       " 'has(c)': False,\n",
       " 'count(d)': 0,\n",
       " 'has(d)': False,\n",
       " 'count(e)': 0,\n",
       " 'has(e)': False,\n",
       " 'count(f)': 0,\n",
       " 'has(f)': False,\n",
       " 'count(g)': 0,\n",
       " 'has(g)': False,\n",
       " 'count(h)': 1,\n",
       " 'has(h)': True,\n",
       " 'count(i)': 0,\n",
       " 'has(i)': False,\n",
       " 'count(j)': 1,\n",
       " 'has(j)': True,\n",
       " 'count(k)': 0,\n",
       " 'has(k)': False,\n",
       " 'count(l)': 0,\n",
       " 'has(l)': False,\n",
       " 'count(m)': 0,\n",
       " 'has(m)': False,\n",
       " 'count(n)': 1,\n",
       " 'has(n)': True,\n",
       " 'count(o)': 1,\n",
       " 'has(o)': True,\n",
       " 'count(p)': 0,\n",
       " 'has(p)': False,\n",
       " 'count(q)': 0,\n",
       " 'has(q)': False,\n",
       " 'count(r)': 0,\n",
       " 'has(r)': False,\n",
       " 'count(s)': 0,\n",
       " 'has(s)': False,\n",
       " 'count(t)': 0,\n",
       " 'has(t)': False,\n",
       " 'count(u)': 0,\n",
       " 'has(u)': False,\n",
       " 'count(v)': 0,\n",
       " 'has(v)': False,\n",
       " 'count(w)': 0,\n",
       " 'has(w)': False,\n",
       " 'count(x)': 0,\n",
       " 'has(x)': False,\n",
       " 'count(y)': 0,\n",
       " 'has(y)': False,\n",
       " 'count(z)': 0,\n",
       " 'has(z)': False}"
      ]
     },
     "execution_count": 17,
     "metadata": {},
     "output_type": "execute_result"
    }
   ],
   "source": [
    "gender_features2('John') "
   ]
  },
  {
   "cell_type": "code",
   "execution_count": 18,
   "metadata": {},
   "outputs": [
    {
     "name": "stdout",
     "output_type": "stream",
     "text": [
      "0.792\n"
     ]
    }
   ],
   "source": [
    "featuresets = [(gender_features2(n), gender) for (n, gender) in labeled_names]\n",
    "train_set, test_set = featuresets[500:], featuresets[:500]\n",
    "classifier = nltk.NaiveBayesClassifier.train(train_set)\n",
    "print(nltk.classify.accuracy(classifier, test_set))"
   ]
  },
  {
   "cell_type": "code",
   "execution_count": 34,
   "metadata": {},
   "outputs": [],
   "source": [
    "# training set is used to train the model, and the dev-test set is used to perform error analysis.\n",
    "train_names = labeled_names[1500:]\n",
    "devtest_names = labeled_names[500:1500]\n",
    "test_names = labeled_names[:500]"
   ]
  },
  {
   "cell_type": "code",
   "execution_count": 35,
   "metadata": {},
   "outputs": [
    {
     "name": "stdout",
     "output_type": "stream",
     "text": [
      "0.791\n"
     ]
    }
   ],
   "source": [
    "# train a model using the training set [1], and then run it on the dev-test set [2].\n",
    "train_set = [(gender_features(n), gender) for (n, gender) in train_names]\n",
    "devtest_set = [(gender_features(n), gender) for (n, gender) in devtest_names]\n",
    "test_set = [(gender_features(n), gender) for (n, gender) in test_names]\n",
    "#1\n",
    "classifier = nltk.NaiveBayesClassifier.train(train_set)\n",
    "#2\n",
    "print(nltk.classify.accuracy(classifier, devtest_set)) "
   ]
  },
  {
   "cell_type": "code",
   "execution_count": 36,
   "metadata": {},
   "outputs": [
    {
     "name": "stdout",
     "output_type": "stream",
     "text": [
      "correct=female   guess=male     name=Abbey                         \n",
      "correct=female   guess=male     name=Abigael                       \n",
      "correct=female   guess=male     name=Adey                          \n",
      "correct=female   guess=male     name=Adrien                        \n",
      "correct=female   guess=male     name=Aidan                         \n",
      "correct=female   guess=male     name=Ailey                         \n",
      "correct=female   guess=male     name=Allsun                        \n",
      "correct=female   guess=male     name=Amargo                        \n",
      "correct=female   guess=male     name=Anett                         \n",
      "correct=female   guess=male     name=Anne-Mar                      \n",
      "correct=female   guess=male     name=Ansley                        \n",
      "correct=female   guess=male     name=April                         \n",
      "correct=female   guess=male     name=Astrix                        \n",
      "correct=female   guess=male     name=Audrey                        \n",
      "correct=female   guess=male     name=Beilul                        \n",
      "correct=female   guess=male     name=Bevvy                         \n",
      "correct=female   guess=male     name=Bird                          \n",
      "correct=female   guess=male     name=Cam                           \n",
      "correct=female   guess=male     name=Cassandry                     \n",
      "correct=female   guess=male     name=Clem                          \n",
      "correct=female   guess=male     name=Clio                          \n",
      "correct=female   guess=male     name=Coreen                        \n",
      "correct=female   guess=male     name=Correy                        \n",
      "correct=female   guess=male     name=Courtney                      \n",
      "correct=female   guess=male     name=Cybal                         \n",
      "correct=female   guess=male     name=Cybel                         \n",
      "correct=female   guess=male     name=Danit                         \n",
      "correct=female   guess=male     name=Darb                          \n",
      "correct=female   guess=male     name=Devin                         \n",
      "correct=female   guess=male     name=Diamond                       \n",
      "correct=female   guess=male     name=Dorcas                        \n",
      "correct=female   guess=male     name=Dorey                         \n",
      "correct=female   guess=male     name=Dorris                        \n",
      "correct=female   guess=male     name=Dory                          \n",
      "correct=female   guess=male     name=Dot                           \n",
      "correct=female   guess=male     name=Elinor                        \n",
      "correct=female   guess=male     name=Evy                           \n",
      "correct=female   guess=male     name=Felicdad                      \n",
      "correct=female   guess=male     name=Florry                        \n",
      "correct=female   guess=male     name=Francis                       \n",
      "correct=female   guess=male     name=Frank                         \n",
      "correct=female   guess=male     name=Garland                       \n",
      "correct=female   guess=male     name=Garnet                        \n",
      "correct=female   guess=male     name=Gay                           \n",
      "correct=female   guess=male     name=Georgiamay                    \n",
      "correct=female   guess=male     name=Gerry                         \n",
      "correct=female   guess=male     name=Gillian                       \n",
      "correct=female   guess=male     name=Glynis                        \n",
      "correct=female   guess=male     name=Hedwig                        \n",
      "correct=female   guess=male     name=Helen                         \n",
      "correct=female   guess=male     name=Hildagard                     \n",
      "correct=female   guess=male     name=Inez                          \n",
      "correct=female   guess=male     name=Ivett                         \n",
      "correct=female   guess=male     name=Jerry                         \n",
      "correct=female   guess=male     name=Jewel                         \n",
      "correct=female   guess=male     name=Joannes                       \n",
      "correct=female   guess=male     name=Jobey                         \n",
      "correct=female   guess=male     name=Joey                          \n",
      "correct=female   guess=male     name=Joscelin                      \n",
      "correct=female   guess=male     name=Juliet                        \n",
      "correct=female   guess=male     name=Justin                        \n",
      "correct=female   guess=male     name=Kacey                         \n",
      "correct=female   guess=male     name=Kaster                        \n",
      "correct=female   guess=male     name=Keeley                        \n",
      "correct=female   guess=male     name=Kerstin                       \n",
      "correct=female   guess=male     name=Kim                           \n",
      "correct=female   guess=male     name=Kristen                       \n",
      "correct=female   guess=male     name=Leland                        \n",
      "correct=female   guess=male     name=Libby                         \n",
      "correct=female   guess=male     name=Lorrin                        \n",
      "correct=female   guess=male     name=Lust                          \n",
      "correct=female   guess=male     name=Lynnell                       \n",
      "correct=female   guess=male     name=Mabel                         \n",
      "correct=female   guess=male     name=Mariellen                     \n",
      "correct=female   guess=male     name=Melicent                      \n",
      "correct=female   guess=male     name=Meridel                       \n",
      "correct=female   guess=male     name=Meris                         \n",
      "correct=female   guess=male     name=Merrill                       \n",
      "correct=female   guess=male     name=Merry                         \n",
      "correct=female   guess=male     name=Mersey                        \n",
      "correct=female   guess=male     name=Michel                        \n",
      "correct=female   guess=male     name=Michell                       \n",
      "correct=female   guess=male     name=Mirabel                       \n",
      "correct=female   guess=male     name=Nan                           \n",
      "correct=female   guess=male     name=Noell                         \n",
      "correct=female   guess=male     name=Persis                        \n",
      "correct=female   guess=male     name=Phillis                       \n",
      "correct=female   guess=male     name=Piper                         \n",
      "correct=female   guess=male     name=Raf                           \n",
      "correct=female   guess=male     name=Ragnhild                      \n",
      "correct=female   guess=male     name=Rahel                         \n",
      "correct=female   guess=male     name=Rayshell                      \n",
      "correct=female   guess=male     name=Renel                         \n",
      "correct=female   guess=male     name=Riannon                       \n",
      "correct=female   guess=male     name=Roby                          \n",
      "correct=female   guess=male     name=Roch                          \n",
      "correct=female   guess=male     name=Sharron                       \n",
      "correct=female   guess=male     name=Shay                          \n",
      "correct=female   guess=male     name=Shelagh                       \n",
      "correct=female   guess=male     name=Shelley                       \n",
      "correct=female   guess=male     name=Shirleen                      \n",
      "correct=female   guess=male     name=Sileas                        \n",
      "correct=female   guess=male     name=Siobhan                       \n",
      "correct=female   guess=male     name=Starlin                       \n",
      "correct=female   guess=male     name=Sukey                         \n",
      "correct=female   guess=male     name=Suzzy                         \n",
      "correct=female   guess=male     name=Tamar                         \n",
      "correct=female   guess=male     name=Tobey                         \n",
      "correct=female   guess=male     name=Tracey                        \n",
      "correct=female   guess=male     name=Trix                          \n",
      "correct=female   guess=male     name=Velvet                        \n",
      "correct=female   guess=male     name=Violet                        \n",
      "correct=female   guess=male     name=Yehudit                       \n",
      "correct=male     guess=female   name=Adlai                         \n",
      "correct=male     guess=female   name=Ambrose                       \n",
      "correct=male     guess=female   name=Andrea                        \n",
      "correct=male     guess=female   name=Archy                         \n",
      "correct=male     guess=female   name=Augie                         \n",
      "correct=male     guess=female   name=Bailie                        \n",
      "correct=male     guess=female   name=Benjie                        \n",
      "correct=male     guess=female   name=Berkie                        \n",
      "correct=male     guess=female   name=Bobbie                        \n",
      "correct=male     guess=female   name=Bubba                         \n",
      "correct=male     guess=female   name=Cammy                         \n",
      "correct=male     guess=female   name=Carmine                       \n",
      "correct=male     guess=female   name=Cortese                       \n",
      "correct=male     guess=female   name=Daffy                         \n",
      "correct=male     guess=female   name=Dante                         \n",
      "correct=male     guess=female   name=Darryl                        \n",
      "correct=male     guess=female   name=Daryl                         \n",
      "correct=male     guess=female   name=Dave                          \n",
      "correct=male     guess=female   name=Donnie                        \n",
      "correct=male     guess=female   name=Durante                       \n",
      "correct=male     guess=female   name=Elmore                        \n",
      "correct=male     guess=female   name=Ernie                         \n",
      "correct=male     guess=female   name=Esme                          \n",
      "correct=male     guess=female   name=Ezra                          \n",
      "correct=male     guess=female   name=Ferdy                         \n",
      "correct=male     guess=female   name=Freddy                        \n",
      "correct=male     guess=female   name=Garcia                        \n",
      "correct=male     guess=female   name=Geri                          \n",
      "correct=male     guess=female   name=Hermann                       \n",
      "correct=male     guess=female   name=Hewe                          \n",
      "correct=male     guess=female   name=Hodge                         \n",
      "correct=male     guess=female   name=Iggie                         \n",
      "correct=male     guess=female   name=Isadore                       \n",
      "correct=male     guess=female   name=Jean-Christophe               \n",
      "correct=male     guess=female   name=Jereme                        \n",
      "correct=male     guess=female   name=Jeremiah                      \n",
      "correct=male     guess=female   name=Jeromy                        \n",
      "correct=male     guess=female   name=Jerrie                        \n",
      "correct=male     guess=female   name=Jodie                         \n",
      "correct=male     guess=female   name=Johnny                        \n",
      "correct=male     guess=female   name=Jonah                         \n",
      "correct=male     guess=female   name=Judah                         \n",
      "correct=male     guess=female   name=Kingsly                       \n",
      "correct=male     guess=female   name=Lefty                         \n",
      "correct=male     guess=female   name=Lemmy                         \n",
      "correct=male     guess=female   name=Lorrie                        \n",
      "correct=male     guess=female   name=Lyn                           \n",
      "correct=male     guess=female   name=Martyn                        \n",
      "correct=male     guess=female   name=Mischa                        \n",
      "correct=male     guess=female   name=Neville                       \n",
      "correct=male     guess=female   name=Nikita                        \n",
      "correct=male     guess=female   name=Nikki                         \n",
      "correct=male     guess=female   name=Nikolai                       \n",
      "correct=male     guess=female   name=Obadiah                       \n",
      "correct=male     guess=female   name=Odie                          \n",
      "correct=male     guess=female   name=Ole                           \n",
      "correct=male     guess=female   name=Orville                       \n",
      "correct=male     guess=female   name=Paige                         \n",
      "correct=male     guess=female   name=Pate                          \n",
      "correct=male     guess=female   name=Rene                          \n",
      "correct=male     guess=female   name=Rice                          \n",
      "correct=male     guess=female   name=Ronny                         \n",
      "correct=male     guess=female   name=Royce                         \n",
      "correct=male     guess=female   name=Rusty                         \n",
      "correct=male     guess=female   name=Sawyere                       \n",
      "correct=male     guess=female   name=Saxe                          \n",
      "correct=male     guess=female   name=Sayre                         \n",
      "correct=male     guess=female   name=Scarface                      \n",
      "correct=male     guess=female   name=Shawn                         \n",
      "correct=male     guess=female   name=Sly                           \n",
      "correct=male     guess=female   name=Sollie                        \n",
      "correct=male     guess=female   name=Steve                         \n",
      "correct=male     guess=female   name=Terri                         \n",
      "correct=male     guess=female   name=Thornie                       \n",
      "correct=male     guess=female   name=Timothy                       \n",
      "correct=male     guess=female   name=Tome                          \n",
      "correct=male     guess=female   name=Tommie                        \n",
      "correct=male     guess=female   name=Tonnie                        \n",
      "correct=male     guess=female   name=Townie                        \n",
      "correct=male     guess=female   name=Towny                         \n",
      "correct=male     guess=female   name=Vance                         \n",
      "correct=male     guess=female   name=Verne                         \n",
      "correct=male     guess=female   name=Virgie                        \n",
      "correct=male     guess=female   name=Waine                         \n",
      "correct=male     guess=female   name=Waite                         \n",
      "correct=male     guess=female   name=Warde                         \n",
      "correct=male     guess=female   name=Wayne                         \n",
      "correct=male     guess=female   name=Willie                        \n",
      "correct=male     guess=female   name=Willy                         \n",
      "correct=male     guess=female   name=Wittie                        \n",
      "correct=male     guess=female   name=Witty                         \n",
      "correct=male     guess=female   name=Yankee                        \n",
      "correct=male     guess=female   name=Yehudi                        \n",
      "correct=male     guess=female   name=Zacharie                      \n",
      "correct=male     guess=female   name=Zedekiah                      \n",
      "correct=male     guess=female   name=Zolly                         \n"
     ]
    }
   ],
   "source": [
    "# generate a list of the errors that the classifier makes when predicting name genders\n",
    "errors = []\n",
    "for (name, tag) in devtest_names:\n",
    "     guess = classifier.classify(gender_features(name))\n",
    "     if guess != tag:\n",
    "         errors.append( (tag, guess, name) )\n",
    "\n",
    "for (tag, guess, name) in sorted(errors):\n",
    "     print('correct={:<8} guess={:<8s} name={:<30}'.format(tag, guess, name))"
   ]
  },
  {
   "cell_type": "code",
   "execution_count": 37,
   "metadata": {},
   "outputs": [
    {
     "data": {
      "text/plain": [
       "{'suffix1': 'k', 'suffix2': 'ek'}"
      ]
     },
     "execution_count": 37,
     "metadata": {},
     "output_type": "execute_result"
    }
   ],
   "source": [
    "def gender_features(word):\n",
    "     return {'suffix1': word[-1:],\n",
    "             'suffix2': word[-2:]}\n",
    "gender_features('Shrek')"
   ]
  },
  {
   "cell_type": "code",
   "execution_count": 38,
   "metadata": {},
   "outputs": [
    {
     "name": "stdout",
     "output_type": "stream",
     "text": [
      "0.791\n"
     ]
    }
   ],
   "source": [
    "train_set = [(gender_features(n), gender) for (n, gender) in train_names]\n",
    "devtest_set = [(gender_features(n), gender) for (n, gender) in devtest_names]\n",
    "classifier = nltk.NaiveBayesClassifier.train(train_set)\n",
    "print(nltk.classify.accuracy(classifier, devtest_set))"
   ]
  },
  {
   "cell_type": "code",
   "execution_count": null,
   "metadata": {},
   "outputs": [],
   "source": []
  }
 ],
 "metadata": {
  "kernelspec": {
   "display_name": "Python 3",
   "language": "python",
   "name": "python3"
  }
 },
 "nbformat": 4,
 "nbformat_minor": 4
}
