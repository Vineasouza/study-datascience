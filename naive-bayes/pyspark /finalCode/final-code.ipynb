{
 "cells": [
  {
   "cell_type": "markdown",
   "metadata": {},
   "source": [
    "## Inicializando o pyspark e criando o SparkContext"
   ]
  },
  {
   "cell_type": "code",
   "execution_count": 1,
   "metadata": {},
   "outputs": [],
   "source": [
    "import pyspark \n",
    "from pyspark.sql import SQLContext\n",
    "# to start a spark context\n",
    "\n",
    "sc=SparkContext.getOrCreate()   \n",
    "    \n",
    "spark = SparkSession.builder.appName(\"TweetSentiApp\").getOrCreate()"
   ]
  },
  {
   "cell_type": "markdown",
   "metadata": {},
   "source": [
    "## Lendo o arquivo CSV"
   ]
  },
  {
   "cell_type": "code",
   "execution_count": 2,
   "metadata": {},
   "outputs": [
    {
     "name": "stdout",
     "output_type": "stream",
     "text": [
      "************************READING CSV*******************************\n",
      "************************CSV OK************************************\n"
     ]
    }
   ],
   "source": [
    "print(\"************************READING CSV*******************************\")\n",
    "\n",
    "df = sqlContext.read.format('com.databricks.spark.csv').options(header='true', inferschema='true').load('hdfs://localhost:9000/user/input/datasetReviewed.csv')\n",
    "type(df)\n",
    "\n",
    "print(\"************************CSV OK************************************\")"
   ]
  },
  {
   "cell_type": "markdown",
   "metadata": {},
   "source": [
    "## Droppando algumas colunas que não serão necessárias"
   ]
  },
  {
   "cell_type": "code",
   "execution_count": 3,
   "metadata": {},
   "outputs": [],
   "source": [
    "drop_list = ['company', 'company_count', 'created_at', 'favorite_count', 'retweet_count']\n",
    "df = df.select([column for column in df.columns if column not in drop_list])"
   ]
  },
  {
   "cell_type": "markdown",
   "metadata": {},
   "source": [
    "## Modificando valores por string via SQL  -- teste --"
   ]
  },
  {
   "cell_type": "code",
   "execution_count": 4,
   "metadata": {},
   "outputs": [],
   "source": [
    "#df.createOrReplaceTempView(\"temp\")\n",
    "#df = spark.sql('SELECT CASE polaridade WHEN -1 THEN \"negativo\" WHEN 0 THEN \"neutro\" ELSE \"positivo\" END AS polaridade,tweet FROM temp')\n",
    "\n",
    "#df.show()"
   ]
  },
  {
   "cell_type": "markdown",
   "metadata": {},
   "source": [
    "## Mostrando o dataframe com as colunas selecionadas"
   ]
  },
  {
   "cell_type": "code",
   "execution_count": 5,
   "metadata": {},
   "outputs": [
    {
     "name": "stdout",
     "output_type": "stream",
     "text": [
      "+--------------------+-------------+--------------------+----------+\n",
      "|            tweet_id|  screen_name|               tweet|polaridade|\n",
      "+--------------------+-------------+--------------------+----------+\n",
      "| 1128984581330407424|AgenciaEstado|RT @colunadobroad...|         0|\n",
      "| 1128600913092857856|AgenciaEstado|Iguatemi vai repe...|      null|\n",
      "|https://t.co/ZTml...|         null|                null|      null|\n",
      "| 1128245224294293504|AgenciaEstado|RT @colunadobroad...|         1|\n",
      "| 1127542253159952384|AgenciaEstado|RT @colunadobroad...|         1|\n",
      "| 1127153121363419137|AgenciaEstado|Iguatemi fecha pa...|         1|\n",
      "| 1126927749791277059|AgenciaEstado|As três prioridad...|         1|\n",
      "| 1126435268192559104|AgenciaEstado|Atacada, Cielo di...|         0|\n",
      "| 1126078103917334529|AgenciaEstado|Fique de olho: Me...|         0|\n",
      "| 1125715108217466880|AgenciaEstado|Fique de olho: Co...|         0|\n",
      "| 1124275377000603649|AgenciaEstado|RT @colunadobroad...|         1|\n",
      "| 1123883457438994432|AgenciaEstado|RT @colunadobroad...|         1|\n",
      "| 1123166798428495872|AgenciaEstado|RT @colunadobroad...|         0|\n",
      "| 1121366959512346627|AgenciaEstado|Fique de olho: Me...|         0|\n",
      "| 1119922170493378560|AgenciaEstado|RT @colunadobroad...|         0|\n",
      "| 1118545835875282946|AgenciaEstado|RT @colunadobroad...|         0|\n",
      "| 1118105867893772288|AgenciaEstado|Fique de olho: me...|         0|\n",
      "| 1117396430870712320|AgenciaEstado|RT @colunadobroad...|         1|\n",
      "| 1116047779992829953|AgenciaEstado|Cade condena BR D...|      null|\n",
      "|https://t.co/0Cfg...|         null|                null|      null|\n",
      "+--------------------+-------------+--------------------+----------+\n",
      "only showing top 20 rows\n",
      "\n"
     ]
    }
   ],
   "source": [
    "df.show(truncate=20)"
   ]
  },
  {
   "cell_type": "markdown",
   "metadata": {},
   "source": [
    "## Droppando linhas com NaN e contando quantas linhas o dataframe possui"
   ]
  },
  {
   "cell_type": "code",
   "execution_count": 6,
   "metadata": {},
   "outputs": [
    {
     "name": "stdout",
     "output_type": "stream",
     "text": [
      "+-------------------+-------------+--------------------+----------+\n",
      "|           tweet_id|  screen_name|               tweet|polaridade|\n",
      "+-------------------+-------------+--------------------+----------+\n",
      "|1128984581330407424|AgenciaEstado|RT @colunadobroad...|         0|\n",
      "|1128245224294293504|AgenciaEstado|RT @colunadobroad...|         1|\n",
      "|1127542253159952384|AgenciaEstado|RT @colunadobroad...|         1|\n",
      "|1127153121363419137|AgenciaEstado|Iguatemi fecha pa...|         1|\n",
      "|1126927749791277059|AgenciaEstado|As três prioridad...|         1|\n",
      "|1126435268192559104|AgenciaEstado|Atacada, Cielo di...|         0|\n",
      "|1126078103917334529|AgenciaEstado|Fique de olho: Me...|         0|\n",
      "|1125715108217466880|AgenciaEstado|Fique de olho: Co...|         0|\n",
      "|1124275377000603649|AgenciaEstado|RT @colunadobroad...|         1|\n",
      "|1123883457438994432|AgenciaEstado|RT @colunadobroad...|         1|\n",
      "|1123166798428495872|AgenciaEstado|RT @colunadobroad...|         0|\n",
      "|1121366959512346627|AgenciaEstado|Fique de olho: Me...|         0|\n",
      "|1119922170493378560|AgenciaEstado|RT @colunadobroad...|         0|\n",
      "|1118545835875282946|AgenciaEstado|RT @colunadobroad...|         0|\n",
      "|1118105867893772288|AgenciaEstado|Fique de olho: me...|         0|\n",
      "|1117396430870712320|AgenciaEstado|RT @colunadobroad...|         1|\n",
      "|1114855983799578624|AgenciaEstado|RT @colunadobroad...|         0|\n",
      "|1114855970339983360|AgenciaEstado|RT @colunadobroad...|         1|\n",
      "|1114182676536340481|AgenciaEstado|RT @colunadobroad...|         1|\n",
      "|1112489813020688384|AgenciaEstado|RT @broadpolitico...|         1|\n",
      "+-------------------+-------------+--------------------+----------+\n",
      "only showing top 20 rows\n",
      "\n"
     ]
    }
   ],
   "source": [
    "df = df.dropna()\n",
    "df.show()"
   ]
  },
  {
   "cell_type": "markdown",
   "metadata": {},
   "source": [
    "## Separando o dataframe em um dataframe de treino (train_set)  com 80% e um dataframe de teste (test_set) com 20%"
   ]
  },
  {
   "cell_type": "code",
   "execution_count": 7,
   "metadata": {},
   "outputs": [],
   "source": [
    "(train_set, test_set) = df.randomSplit([0.8, 0.2], seed = 0)"
   ]
  },
  {
   "cell_type": "markdown",
   "metadata": {},
   "source": [
    "## Processo de limpeza, tirando links e pontuações"
   ]
  },
  {
   "cell_type": "code",
   "execution_count": 8,
   "metadata": {},
   "outputs": [
    {
     "name": "stdout",
     "output_type": "stream",
     "text": [
      "+-------------------+-------------+--------------------+----------+\n",
      "|           tweet_id|  screen_name|               tweet|polaridade|\n",
      "+-------------------+-------------+--------------------+----------+\n",
      "|1128984581330407424|agenciaestado| @colunadobroad d...|         0|\n",
      "|1128245224294293504|agenciaestado| @colunadobroad i...|         1|\n",
      "|1127542253159952384|agenciaestado| @colunadobroad i...|         1|\n",
      "|1127153121363419137|agenciaestado|iguatemi fecha pa...|         1|\n",
      "|1126927749791277059|agenciaestado|as três prioridad...|         1|\n",
      "|1126435268192559104|agenciaestado|atacada, cielo di...|         0|\n",
      "|1126078103917334529|agenciaestado|fique de olho mer...|         0|\n",
      "|1125715108217466880|agenciaestado|fique de olho com...|         0|\n",
      "|1124275377000603649|agenciaestado| @colunadobroad t...|         1|\n",
      "|1123883457438994432|agenciaestado| @colunadobroad s...|         1|\n",
      "|1123166798428495872|agenciaestado| @colunadobroad c...|         0|\n",
      "|1121366959512346627|agenciaestado|fique de olho mer...|         0|\n",
      "|1119922170493378560|agenciaestado| @colunadobroad v...|         0|\n",
      "|1118545835875282946|agenciaestado| @colunadobroad n...|         0|\n",
      "|1118105867893772288|agenciaestado|fique de olho mer...|         0|\n",
      "|1117396430870712320|agenciaestado| @colunadobroad c...|         1|\n",
      "|1114855983799578624|agenciaestado| @colunadobroad b...|         0|\n",
      "|1114855970339983360|agenciaestado| @colunadobroad g...|         1|\n",
      "|1114182676536340481|agenciaestado| @colunadobroad i...|         1|\n",
      "|1112489813020688384|agenciaestado| @broadpolitico m...|         1|\n",
      "+-------------------+-------------+--------------------+----------+\n",
      "only showing top 20 rows\n",
      "\n"
     ]
    }
   ],
   "source": [
    "import re\n",
    "from pyspark.sql.functions import UserDefinedFunction\n",
    "from pyspark.sql.types import *\n",
    "\n",
    "udf = UserDefinedFunction(lambda x: re.sub(r\"http\\S+\", \"\", x).lower().replace('.','').replace(';','').replace('-','').replace(':','').replace(')','').replace('\"','').replace('rt',''), StringType())\n",
    "\n",
    "\n",
    "df_clean = df.select(*[udf(column).alias(column) for column in df.columns])\n",
    "\n",
    "df_clean.show()"
   ]
  },
  {
   "cell_type": "markdown",
   "metadata": {},
   "source": [
    "## Processo de tokenização das palavras"
   ]
  },
  {
   "cell_type": "code",
   "execution_count": 9,
   "metadata": {},
   "outputs": [],
   "source": [
    "from pyspark.ml.feature import Tokenizer\n",
    "\n",
    "tokenizer = Tokenizer(inputCol=\"tweet\", outputCol=\"words\")\n",
    "df_token = tokenizer.transform(df_clean)"
   ]
  },
  {
   "cell_type": "code",
   "execution_count": 10,
   "metadata": {},
   "outputs": [
    {
     "name": "stdout",
     "output_type": "stream",
     "text": [
      "+-------------------+-------------+------------------------------+----------+------------------------------+\n",
      "|           tweet_id|  screen_name|                         tweet|polaridade|                         words|\n",
      "+-------------------+-------------+------------------------------+----------+------------------------------+\n",
      "|1128984581330407424|agenciaestado| @colunadobroad diretor afa...|         0|[, @colunadobroad, diretor,...|\n",
      "|1128245224294293504|agenciaestado| @colunadobroad irb brasil ...|         1|[, @colunadobroad, irb, bra...|\n",
      "|1127542253159952384|agenciaestado| @colunadobroad itaú uniban...|         1|[, @colunadobroad, itaú, un...|\n",
      "|1127153121363419137|agenciaestado|iguatemi fecha parceria com...|         1|[iguatemi, fecha, parceria,...|\n",
      "|1126927749791277059|agenciaestado|as três prioridades daqui e...|         1|[as, três, prioridades, daq...|\n",
      "|1126435268192559104|agenciaestado|atacada, cielo diz que não ...|         0|[atacada,, cielo, diz, que,...|\n",
      "|1126078103917334529|agenciaestado|fique de olho mercado olha ...|         0|[fique, de, olho, mercado, ...|\n",
      "|1125715108217466880|agenciaestado|fique de olho comércio dos ...|         0|[fique, de, olho, comércio,...|\n",
      "|1124275377000603649|agenciaestado| @colunadobroad tim deslanc...|         1|[, @colunadobroad, tim, des...|\n",
      "|1123883457438994432|agenciaestado| @colunadobroad santander e...|         1|[, @colunadobroad, santande...|\n",
      "|1123166798428495872|agenciaestado| @colunadobroad caixa escol...|         0|[, @colunadobroad, caixa, e...|\n",
      "|1121366959512346627|agenciaestado|fique de olho mercado olha ...|         0|[fique, de, olho, mercado, ...|\n",
      "|1119922170493378560|agenciaestado| @colunadobroad vicepreside...|         0|[, @colunadobroad, vicepres...|\n",
      "|1118545835875282946|agenciaestado| @colunadobroad novo consel...|         0|[, @colunadobroad, novo, co...|\n",
      "|1118105867893772288|agenciaestado|fique de olho mercado monit...|         0|[fique, de, olho, mercado, ...|\n",
      "|1117396430870712320|agenciaestado| @colunadobroad com inovabr...|         1|[, @colunadobroad, com, ino...|\n",
      "|1114855983799578624|agenciaestado| @colunadobroad bradesco va...|         0|[, @colunadobroad, bradesco...|\n",
      "|1114855970339983360|agenciaestado| @colunadobroad gpa turbina...|         1|[, @colunadobroad, gpa, tur...|\n",
      "|1114182676536340481|agenciaestado| @colunadobroad itaú uniban...|         1|[, @colunadobroad, itaú, un...|\n",
      "|1112489813020688384|agenciaestado| @broadpolitico ministério ...|         1|[, @broadpolitico, ministér...|\n",
      "+-------------------+-------------+------------------------------+----------+------------------------------+\n",
      "only showing top 20 rows\n",
      "\n"
     ]
    }
   ],
   "source": [
    "df_token.show(truncate=30)"
   ]
  },
  {
   "cell_type": "markdown",
   "metadata": {},
   "source": [
    "## Processo de retirada das StopWords"
   ]
  },
  {
   "cell_type": "code",
   "execution_count": 11,
   "metadata": {},
   "outputs": [],
   "source": [
    "from pyspark.ml.feature import StopWordsRemover\n",
    "\n",
    "remover = StopWordsRemover(inputCol=\"words\", outputCol=\"filtered\")\n",
    "df_remover = remover.transform(df_token)"
   ]
  },
  {
   "cell_type": "code",
   "execution_count": 12,
   "metadata": {},
   "outputs": [
    {
     "name": "stdout",
     "output_type": "stream",
     "text": [
      "+-------------------+-------------+--------------------+----------+--------------------+--------------------+\n",
      "|           tweet_id|  screen_name|               tweet|polaridade|               words|            filtered|\n",
      "+-------------------+-------------+--------------------+----------+--------------------+--------------------+\n",
      "|1128984581330407424|agenciaestado| @colunadobroad d...|         0|[, @colunadobroad...|[, @colunadobroad...|\n",
      "|1128245224294293504|agenciaestado| @colunadobroad i...|         1|[, @colunadobroad...|[, @colunadobroad...|\n",
      "|1127542253159952384|agenciaestado| @colunadobroad i...|         1|[, @colunadobroad...|[, @colunadobroad...|\n",
      "|1127153121363419137|agenciaestado|iguatemi fecha pa...|         1|[iguatemi, fecha,...|[iguatemi, fecha,...|\n",
      "|1126927749791277059|agenciaestado|as três prioridad...|         1|[as, três, priori...|[três, prioridade...|\n",
      "|1126435268192559104|agenciaestado|atacada, cielo di...|         0|[atacada,, cielo,...|[atacada,, cielo,...|\n",
      "|1126078103917334529|agenciaestado|fique de olho mer...|         0|[fique, de, olho,...|[fique, de, olho,...|\n",
      "|1125715108217466880|agenciaestado|fique de olho com...|         0|[fique, de, olho,...|[fique, de, olho,...|\n",
      "|1124275377000603649|agenciaestado| @colunadobroad t...|         1|[, @colunadobroad...|[, @colunadobroad...|\n",
      "|1123883457438994432|agenciaestado| @colunadobroad s...|         1|[, @colunadobroad...|[, @colunadobroad...|\n",
      "|1123166798428495872|agenciaestado| @colunadobroad c...|         0|[, @colunadobroad...|[, @colunadobroad...|\n",
      "|1121366959512346627|agenciaestado|fique de olho mer...|         0|[fique, de, olho,...|[fique, de, olho,...|\n",
      "|1119922170493378560|agenciaestado| @colunadobroad v...|         0|[, @colunadobroad...|[, @colunadobroad...|\n",
      "|1118545835875282946|agenciaestado| @colunadobroad n...|         0|[, @colunadobroad...|[, @colunadobroad...|\n",
      "|1118105867893772288|agenciaestado|fique de olho mer...|         0|[fique, de, olho,...|[fique, de, olho,...|\n",
      "|1117396430870712320|agenciaestado| @colunadobroad c...|         1|[, @colunadobroad...|[, @colunadobroad...|\n",
      "|1114855983799578624|agenciaestado| @colunadobroad b...|         0|[, @colunadobroad...|[, @colunadobroad...|\n",
      "|1114855970339983360|agenciaestado| @colunadobroad g...|         1|[, @colunadobroad...|[, @colunadobroad...|\n",
      "|1114182676536340481|agenciaestado| @colunadobroad i...|         1|[, @colunadobroad...|[, @colunadobroad...|\n",
      "|1112489813020688384|agenciaestado| @broadpolitico m...|         1|[, @broadpolitico...|[, @broadpolitico...|\n",
      "+-------------------+-------------+--------------------+----------+--------------------+--------------------+\n",
      "only showing top 20 rows\n",
      "\n"
     ]
    }
   ],
   "source": [
    "df_remover.show(truncate=20)"
   ]
  },
  {
   "cell_type": "markdown",
   "metadata": {},
   "source": [
    "## Processo de Stemming "
   ]
  },
  {
   "cell_type": "code",
   "execution_count": 13,
   "metadata": {},
   "outputs": [
    {
     "name": "stdout",
     "output_type": "stream",
     "text": [
      "+--------------------------------------------------------------------------------+\n",
      "|                                                                   words_stemmed|\n",
      "+--------------------------------------------------------------------------------+\n",
      "|      [, @colunadobroad, diretor, afast, bb, é, indic, par, o, patagôn, @estada]|\n",
      "|[, @colunadobroad, irb, brasil, re, busc, increment, negóci, méxic, @colunado...|\n",
      "|[, @colunadobroad, itaú, unibanc, apost, em, nov, model, de, agênc, rum, ao, ...|\n",
      "|[iguatem, fech, parc, com, @ifood, e, acirr, concorrent, nas, entreg, via, sh...|\n",
      "|[três, prioridad, daqu, em, diant, sã, segurança,, pesso, e, reparação,, diz,...|\n",
      "|[atacada,, ciel, diz, que, nã, vai, vir, uma, nov, kodak, #maquininh, #ciel, ...|\n",
      "|[fiqu, de, olho, merc, olha, petrobr, e, balanc, chinesa,, com, prevident, ra...|\n",
      "|[fiqu, de, olho, comérci, dos, eua, e, chin, nutr, cautel, em, mei, à, esper,...|\n",
      "|[, @colunadobroad, tim, deslanch, na, ofe, de, cham, de, voz, pel, red, 4g, @...|\n",
      "|[, @colunadobroad, santand, e, bonsucess, avanc, em, negoc, da, olé, @colunad...|\n",
      "|      [, @colunadobroad, caix, escolh, banc, par, ofe, de, bb, e, alup, @estada]|\n",
      "|[fiqu, de, olho, merc, olha, ipca15, e, balanc, bradesc, antes, de, prevident...|\n",
      "|[, @colunadobroad, vicepresident, itaú, bba, acompanh, milton, nasciment, em,...|\n",
      "|     [, @colunadobroad, nov, conselh, bb, ger, embat, e, pression, cvm, @estada]|\n",
      "|[fiqu, de, olho, merc, monitor, açõ, caminhoneiros,, de, olho, em, petrobr, e...|\n",
      "|[, @colunadobroad, com, inovabr, habitat,, bradesco,, staups, sup, marc, de, ...|\n",
      "|     [, @colunadobroad, bradesc, vai, mud, sed, banc, de, atac, em, sp, @estada]|\n",
      "|[, @colunadobroad, gpa, turbin, vend, com, ofe, via, aplic, extra, e, pã, de,...|\n",
      "|[, @colunadobroad, itaú, unibanc, apost, em, reconhec, facial, crédit, veícul...|\n",
      "|[, @broadpolit, ministéri, das, min, e, energ, govern, brasileir, negoc, inve...|\n",
      "+--------------------------------------------------------------------------------+\n",
      "only showing top 20 rows\n",
      "\n"
     ]
    }
   ],
   "source": [
    "import nltk\n",
    "from pyspark.sql.functions import udf\n",
    "from nltk.stem.snowball import SnowballStemmer\n",
    "\n",
    "stemmer = SnowballStemmer(language='portuguese')\n",
    "stemmer_udf = udf(lambda tokens: [stemmer.stem(token) for token in tokens])\n",
    "df_stemmed = df_remover.withColumn(\"words_stemmed\", stemmer_udf(\"filtered\"))\n",
    "df_stemmed.select(\"words_stemmed\").show(truncate= 80)"
   ]
  },
  {
   "cell_type": "markdown",
   "metadata": {},
   "source": [
    "## Processo TDIDF Vectorizer"
   ]
  },
  {
   "cell_type": "code",
   "execution_count": 14,
   "metadata": {},
   "outputs": [],
   "source": [
    "from pyspark.ml.feature import HashingTF, IDF\n",
    "from pyspark.ml.feature import StringIndexer\n",
    "\n",
    "hashtf = HashingTF(numFeatures=2**16, inputCol=\"filtered\", outputCol='tf')\n",
    "idf = IDF(inputCol='tf', outputCol=\"features\", minDocFreq=3) \n",
    "label_stringIdx = StringIndexer(inputCol = \"polaridade\", outputCol = \"label\")"
   ]
  },
  {
   "cell_type": "markdown",
   "metadata": {},
   "source": [
    "## Pipeline"
   ]
  },
  {
   "cell_type": "code",
   "execution_count": 15,
   "metadata": {},
   "outputs": [
    {
     "name": "stdout",
     "output_type": "stream",
     "text": [
      "+----------+--------------------+--------------------+--------------------+--------------------+-----+\n",
      "|polaridade|               words|            filtered|                  tf|            features|label|\n",
      "+----------+--------------------+--------------------+--------------------+--------------------+-----+\n",
      "|         1|[investidor, estr...|[investidor, estr...|(65536,[8618,9935...|(65536,[8618,9935...|  1.0|\n",
      "|         1|[santander, e, we...|[santander, e, we...|(65536,[6399,1722...|(65536,[6399,1722...|  1.0|\n",
      "|         0|[pedro, parente, ...|[pedro, parente, ...|(65536,[6160,1188...|(65536,[6160,1188...|  0.0|\n",
      "|         1|[bb, se, une, à, ...|[bb, se, une, à, ...|(65536,[6568,1611...|(65536,[6568,1611...|  1.0|\n",
      "|         1|[cubo, itaú, firm...|[cubo, itaú, firm...|(65536,[8717,1343...|(65536,[8717,1343...|  1.0|\n",
      "|         0|[governo, envia, ...|[governo, envia, ...|(65536,[4119,9346...|(65536,[4119,9346...|  0.0|\n",
      "|         0|[bônus, da, petro...|[bônus, da, petro...|(65536,[1715,9181...|(65536,[1715,9181...|  0.0|\n",
      "|         0|[pedido, de, demi...|[pedido, de, demi...|(65536,[1349,8872...|(65536,[1349,8872...|  0.0|\n",
      "|         0|[fusão, de, miner...|[fusão, de, miner...|(65536,[8872,1185...|(65536,[8872,1185...|  0.0|\n",
      "|         0|[por, ora,, inves...|[por, ora,, inves...|(65536,[246,8618,...|(65536,[246,8618,...|  0.0|\n",
      "|         0|[swift, fecha, co...|[swift, fecha, co...|(65536,[452,5069,...|(65536,[452,5069,...|  0.0|\n",
      "|         0|[via, varejo, dem...|[via, varejo, dem...|(65536,[1651,8149...|(65536,[1651,8149...|  0.0|\n",
      "|        -1|[itaú, e, xp, enf...|[itaú, e, xp, enf...|(65536,[1378,5831...|(65536,[1378,5831...|  2.0|\n",
      "|         1|[pedro, parente, ...|[pedro, parente, ...|(65536,[6160,8660...|(65536,[6160,8660...|  1.0|\n",
      "|         0|[itaú, informa, q...|[itaú, informa, q...|(65536,[5438,8306...|(65536,[5438,8306...|  0.0|\n",
      "|         0|[itaú, unibanco, ...|[itaú, unibanco, ...|(65536,[4119,9502...|(65536,[4119,9502...|  0.0|\n",
      "|         1|[dia, dos, namora...|[dia, dos, namora...|(65536,[8462,1654...|(65536,[8462,1654...|  1.0|\n",
      "|         1|[bradesco, traça,...|[bradesco, traça,...|(65536,[5743,1365...|(65536,[5743,1365...|  1.0|\n",
      "|         1|[itaú, unibanco, ...|[itaú, unibanco, ...|(65536,[18250,209...|(65536,[18250,209...|  1.0|\n",
      "|         1|[cielo, realiza, ...|[cielo, realiza, ...|(65536,[4285,8462...|(65536,[4285,8462...|  1.0|\n",
      "+----------+--------------------+--------------------+--------------------+--------------------+-----+\n",
      "only showing top 20 rows\n",
      "\n"
     ]
    }
   ],
   "source": [
    "from pyspark.ml import Pipeline\n",
    "\n",
    "pipeline = Pipeline(stages=[tokenizer, remover, hashtf, idf, label_stringIdx,])\n",
    "pipelineFit = pipeline.fit(train_set)\n",
    "train_df = pipelineFit.transform(train_set)\n",
    "test_df = pipelineFit.transform(test_set)\n",
    "train_df.select(\"polaridade\", \"words\", \"filtered\", \"tf\", \"features\", \"label\").show(truncate=20)"
   ]
  },
  {
   "cell_type": "code",
   "execution_count": 16,
   "metadata": {},
   "outputs": [
    {
     "name": "stdout",
     "output_type": "stream",
     "text": [
      "+--------------------------------------------------------------------------------+\n",
      "|                                                                        features|\n",
      "+--------------------------------------------------------------------------------+\n",
      "|(65536,[8618,9935,19384,31870,35403,37144,46615,52354,53391,58033,60875,64607...|\n",
      "|(65536,[6399,17222,18462,19208,20643,20848,29126,30818,41380,41399,49649,5257...|\n",
      "|(65536,[6160,11887,18466,24833,25775,28851,34218,36449,41380,44461,46257,4989...|\n",
      "|(65536,[6568,16117,29126,35373,36449,38227,40365,40729,41380,44212,50583,5257...|\n",
      "|(65536,[8717,13439,20046,22873,23314,31488,37179,37955,38426,41380,48526,5257...|\n",
      "|(65536,[4119,9346,15165,18750,20141,30535,35183,36449,37902,43101,45238,46257...|\n",
      "|(65536,[1715,9181,14210,16117,38869,41380,44569,46257,52572,54518,60235,65422...|\n",
      "|(65536,[1349,8872,11887,14804,18466,34658,36449,41380,42491,50218,52572,56916...|\n",
      "|(65536,[8872,11858,17222,18302,18466,19013,21851,23666,24833,28297,36449,4138...|\n",
      "|(65536,[246,8618,8717,8872,13102,24833,26427,31471,36449,38449,41326,41380,46...|\n",
      "|(65536,[452,5069,6966,8717,11887,17222,23985,24863,25807,26115,27837,29126,41...|\n",
      "|(65536,[1651,8149,17222,19020,39517,41380,48730,49812,52572,57443,58803,60253...|\n",
      "|(65536,[1378,5831,17222,18718,30881,32832,33474,37955,41380,45643,48164,52572...|\n",
      "|(65536,[6160,8660,11887,18466,24833,31985,46257,47656,48546,49262,49611,51387...|\n",
      "|(65536,[5438,8306,8660,10064,11969,16560,17222,19013,23890,24469,25442,25702,...|\n",
      "|(65536,[4119,9502,19400,19812,20651,27748,28431,29731,36449,37955,41380,52286...|\n",
      "|(65536,[8462,16543,25678,33137,37955,40274,41380,42594,46083,46257,52572,5360...|\n",
      "|(65536,[5743,13650,14169,23801,29126,41380,52572,57788,58496,60280],[5.469465...|\n",
      "|(65536,[18250,20916,21016,22756,29126,29731,36449,37955,41380,42548,46578,525...|\n",
      "|(65536,[4285,8462,14083,30535,35703,36449,40059,48465,49112,55459,57730,64780...|\n",
      "+--------------------------------------------------------------------------------+\n",
      "only showing top 20 rows\n",
      "\n"
     ]
    }
   ],
   "source": [
    "train_df.select(\"features\").show(truncate=80)"
   ]
  },
  {
   "cell_type": "code",
   "execution_count": 17,
   "metadata": {},
   "outputs": [
    {
     "data": {
      "text/plain": [
       "2135"
      ]
     },
     "execution_count": 17,
     "metadata": {},
     "output_type": "execute_result"
    }
   ],
   "source": [
    "train_df.count()"
   ]
  },
  {
   "cell_type": "markdown",
   "metadata": {},
   "source": [
    "## Processo de classificação de Naive Bayes no dataframe de teste"
   ]
  },
  {
   "cell_type": "code",
   "execution_count": 18,
   "metadata": {},
   "outputs": [
    {
     "name": "stdout",
     "output_type": "stream",
     "text": [
      "root\n",
      " |-- tweet_id: string (nullable = true)\n",
      " |-- screen_name: string (nullable = true)\n",
      " |-- tweet: string (nullable = true)\n",
      " |-- polaridade: string (nullable = true)\n",
      " |-- words: array (nullable = true)\n",
      " |    |-- element: string (containsNull = true)\n",
      " |-- filtered: array (nullable = true)\n",
      " |    |-- element: string (containsNull = true)\n",
      " |-- tf: vector (nullable = true)\n",
      " |-- features: vector (nullable = true)\n",
      " |-- label: double (nullable = false)\n",
      " |-- rawPrediction: vector (nullable = true)\n",
      " |-- probability: vector (nullable = true)\n",
      " |-- prediction: double (nullable = false)\n",
      "\n",
      "+----------+--------------------+--------------------+-----+--------------------+--------------------+----------+\n",
      "|polaridade|            filtered|            features|label|       rawPrediction|         probability|prediction|\n",
      "+----------+--------------------+--------------------+-----+--------------------+--------------------+----------+\n",
      "|         0|[visa, e, cielo, ...|(65536,[3021,7729...|  0.0|[-95.329674142379...|[0.99862289544877...|       0.0|\n",
      "|        -1|[sem, combustível...|(65536,[3921,4519...|  2.0|[-213.68362349628...|[0.99999808258052...|       0.0|\n",
      "|         1|[petrobrás, prorr...|(65536,[2436,8717...|  1.0|[-205.87323038401...|[0.80737502845660...|       0.0|\n",
      "|         1|[cabify, passa, a...|(65536,[7764,1445...|  1.0|[-97.585181943757...|[0.97294972740138...|       0.0|\n",
      "|         1|[na, disputa, por...|(65536,[8872,1372...|  1.0|[-236.84448785053...|[0.94382628770764...|       0.0|\n",
      "|         1|[livelo, e, cvc, ...|(65536,[3003,1076...|  1.0|[-245.19986027945...|[2.78364207811183...|       1.0|\n",
      "|         1|[força, de, venda...|(65536,[246,2756,...|  1.0|[-340.02477786306...|[0.54066780328747...|       0.0|\n",
      "|         1|[santander, banca...|(65536,[5215,6022...|  1.0|[-98.356111491346...|[0.58096500069405...|       0.0|\n",
      "|         0|[bc, vai, aprovar...|(65536,[6272,6934...|  0.0|[-325.89206307568...|[0.99999999997382...|       0.0|\n",
      "|         1|[csn, anuncia, au...|(65536,[8908,1071...|  1.0|[-259.79998695055...|[3.88409149496726...|       1.0|\n",
      "|         1|[com, volatilidad...|(65536,[8717,1523...|  1.0|[-186.30592666050...|[0.02717213160064...|       1.0|\n",
      "|         0|[com, juro, mais,...|(65536,[563,1427,...|  0.0|[-220.40358264795...|[3.47068162265542...|       1.0|\n",
      "|         1|[santander, brasi...|(65536,[3770,7589...|  1.0|[-147.27244746240...|[1.68510125047964...|       1.0|\n",
      "|         1|[csn, confirma, a...|(65536,[8306,8660...|  1.0|[-375.58422468328...|[0.99997373825435...|       0.0|\n",
      "|         1|[csn, contrata, a...|(65536,[16021,172...|  1.0|[-278.63964250706...|[3.87059606521270...|       1.0|\n",
      "|        -1|[prejuízo, da, us...|(65536,[8717,1482...|  2.0|[-384.81649822641...|[2.54220120282839...|       1.0|\n",
      "|        -1|[amec, pede, à, m...|(65536,[8872,1131...|  2.0|[-256.55717565374...|[0.99119652982114...|       0.0|\n",
      "|        -1|[rt, @colunadobro...|(65536,[947,8717,...|  2.0|[-359.99359578216...|[4.09371224547492...|       1.0|\n",
      "|         1|[captação, extern...|(65536,[13535,141...|  1.0|[-450.35569280333...|[1.56772364509302...|       1.0|\n",
      "|         0|[rt, @colunadobro...|(65536,[2950,7950...|  0.0|[-243.15496450909...|[1.00688311264341...|       1.0|\n",
      "+----------+--------------------+--------------------+-----+--------------------+--------------------+----------+\n",
      "only showing top 20 rows\n",
      "\n"
     ]
    }
   ],
   "source": [
    "from pyspark.ml.classification import NaiveBayes\n",
    "\n",
    "nb = NaiveBayes(smoothing=1, modelType=\"multinomial\")\n",
    "model = nb.fit(train_df)\n",
    "\n",
    "predictions = model.transform(test_df) \n",
    "\n",
    "predictions.printSchema()\n",
    "\n",
    "predictions.select(\"polaridade\",\"filtered\", \"features\", \"label\", \"rawPrediction\", \"probability\", \"prediction\") \\\n",
    "    .show(n = 20, truncate = 20)"
   ]
  },
  {
   "cell_type": "markdown",
   "metadata": {},
   "source": [
    "## Calculando a precisão da classificação no dataframe de teste"
   ]
  },
  {
   "cell_type": "code",
   "execution_count": 36,
   "metadata": {},
   "outputs": [
    {
     "data": {
      "text/plain": [
       "0.7842401500938087"
      ]
     },
     "execution_count": 36,
     "metadata": {},
     "output_type": "execute_result"
    }
   ],
   "source": [
    "from pyspark.ml.evaluation import MulticlassClassificationEvaluator\n",
    "\n",
    "evaluator = MulticlassClassificationEvaluator(labelCol=\"label\", predictionCol=\"prediction\", metricName=\"accuracy\")\n",
    "evaluator.evaluate(predictions)\n",
    "#evaluator.explainParam(\"metricName\")"
   ]
  },
  {
   "cell_type": "markdown",
   "metadata": {},
   "source": [
    "## ----------- test -----------"
   ]
  },
  {
   "cell_type": "code",
   "execution_count": 20,
   "metadata": {},
   "outputs": [
    {
     "data": {
      "text/plain": [
       "DenseMatrix(3, 3, [239.0, 35.0, 16.0, 33.0, 157.0, 26.0, 3.0, 2.0, 22.0], 0)"
      ]
     },
     "execution_count": 20,
     "metadata": {},
     "output_type": "execute_result"
    }
   ],
   "source": [
    "from pyspark.mllib.evaluation import MulticlassMetrics\n",
    "# Create (prediction, label) pairs\n",
    "predictionAndLabel = predictions.select(\"prediction\", \"label\").rdd\n",
    "\n",
    "# Generate confusion matrix\n",
    "metrics = MulticlassMetrics(predictionAndLabel)\n",
    "\n",
    "metrics.confusionMatrix()"
   ]
  },
  {
   "cell_type": "code",
   "execution_count": 37,
   "metadata": {},
   "outputs": [
    {
     "name": "stdout",
     "output_type": "stream",
     "text": [
      "+----------+----------+-----+\n",
      "|polaridade|prediction|count|\n",
      "+----------+----------+-----+\n",
      "|         1|       0.0|   35|\n",
      "|         0|       2.0|    3|\n",
      "|        -1|       1.0|   26|\n",
      "|         0|       0.0|  239|\n",
      "|         0|       1.0|   33|\n",
      "|         1|       2.0|    2|\n",
      "|         1|       1.0|  157|\n",
      "|        -1|       0.0|   16|\n",
      "|        -1|       2.0|   22|\n",
      "+----------+----------+-----+\n",
      "\n"
     ]
    }
   ],
   "source": [
    "predictions.groupBy('polaridade','prediction').count().show()"
   ]
  },
  {
   "cell_type": "code",
   "execution_count": 49,
   "metadata": {},
   "outputs": [
    {
     "name": "stdout",
     "output_type": "stream",
     "text": [
      "+----------+----------+-----+\n",
      "|polaridade|prediction|count|\n",
      "+----------+----------+-----+\n",
      "|         1|       0.0|   35|\n",
      "|        -1|       1.0|   26|\n",
      "|         0|       0.0|  239|\n",
      "|         0|       1.0|   33|\n",
      "|         1|       1.0|  157|\n",
      "|        -1|       0.0|   16|\n",
      "+----------+----------+-----+\n",
      "\n"
     ]
    }
   ],
   "source": [
    "predictions.createOrReplaceTempView(\"temp\")\n",
    "predictions = spark.sql('SELECT * FROM temp WHERE prediction == 1 OR prediction == 0')\n",
    "\n",
    "predictions.groupBy('polaridade','prediction').count().show()"
   ]
  },
  {
   "cell_type": "markdown",
   "metadata": {},
   "source": [
    "## ----------- test -----------"
   ]
  },
  {
   "cell_type": "markdown",
   "metadata": {},
   "source": [
    "## Passando o dataframe final para um arquivo CSV\n"
   ]
  },
  {
   "cell_type": "code",
   "execution_count": 51,
   "metadata": {},
   "outputs": [],
   "source": [
    "predictions.toPandas().to_csv('datasetReviewed-testdataframe.csv', index_label=\"id-col\")"
   ]
  },
  {
   "cell_type": "markdown",
   "metadata": {},
   "source": [
    "## Processo de classificação de Naive Bayes com sklearn"
   ]
  },
  {
   "cell_type": "code",
   "execution_count": 23,
   "metadata": {},
   "outputs": [
    {
     "data": {
      "text/plain": [
       "tweet_id          2830\n",
       "company           2830\n",
       "company_count     2830\n",
       "created_at        2830\n",
       "favorite_count    2830\n",
       "retweet_count     2830\n",
       "screen_name       2830\n",
       "tweet             2830\n",
       "polaridade        2830\n",
       "dtype: int64"
      ]
     },
     "execution_count": 23,
     "metadata": {},
     "output_type": "execute_result"
    }
   ],
   "source": [
    "#https://www.kaggle.com/leandrodoze/sentiment-analysis-in-portuguese/notebook\n",
    "\n",
    "import nltk\n",
    "import re\n",
    "import pandas as pd\n",
    "from sklearn.feature_extraction.text import CountVectorizer\n",
    "from sklearn.naive_bayes import MultinomialNB\n",
    "from sklearn import metrics\n",
    "from sklearn.model_selection import cross_val_predict\n",
    "\n",
    "dataset = pd.read_csv('datasetReviewed.csv',encoding='utf-8')\n",
    "dataset = dataset.dropna()\n",
    "dataset.count()"
   ]
  },
  {
   "cell_type": "code",
   "execution_count": 24,
   "metadata": {},
   "outputs": [
    {
     "data": {
      "text/plain": [
       "array(['RT @colunadobroad: Diretor afastado do BB é indicado para o Patagônia @estadao:  https://t.co/Lb1D94DIPE https://t.co/tlms2WZRG6',\n",
       "       'Iguatemi vai repensar mix de lojistas para reverter queda na ocupação dos shoppings\\nhttps://t.co/ZTmlbuFU8r Foto: Gabriela Biló/Estadão https://t.co/35VEeDYjRH',\n",
       "       'RT @colunadobroad: IRB Brasil Re busca incrementar negócios no México @colunadobroad:  https://t.co/BzCXlaCcBJ https://t.co/BcfR48AicM',\n",
       "       ...,\n",
       "       'Mal-estar entre Casino e Klein pode atrasar processo de venda da Via Varejo -  https://t.co/OlpJtBSDBQ',\n",
       "       'Controladores da Usiminas estão mais distantes de acordo -  https://t.co/aK8xynwiZq',\n",
       "       'Patrice Etlin, da Advent, conversa com Michael Klein sobre Via Varejo -  https://t.co/2qjZua7V7H'],\n",
       "      dtype=object)"
      ]
     },
     "execution_count": 24,
     "metadata": {},
     "output_type": "execute_result"
    }
   ],
   "source": [
    "tweets = dataset[\"tweet\"].values\n",
    "#tweets = pandas_df[\"filtered\"].values\n",
    "\n",
    "tweets"
   ]
  },
  {
   "cell_type": "code",
   "execution_count": 25,
   "metadata": {},
   "outputs": [
    {
     "data": {
      "text/plain": [
       "array([0, 1, 1, ..., 0, 0, 0])"
      ]
     },
     "execution_count": 25,
     "metadata": {},
     "output_type": "execute_result"
    }
   ],
   "source": [
    "classes = dataset[\"polaridade\"].values\n",
    "#classes = pandas_df[\"polaridade\"].values\n",
    "\n",
    "classes"
   ]
  },
  {
   "cell_type": "code",
   "execution_count": 26,
   "metadata": {},
   "outputs": [
    {
     "data": {
      "text/plain": [
       "['@colunadobroad diretor afastado bb indicado patagônia @estadao',\n",
       " 'iguatemi vai repensar mix lojistas reveer queda ocupação shoppings foto gabriela biló/estadão',\n",
       " '@colunadobroad irb brasil re busca incrementar negócios méxico @colunadobroad',\n",
       " '@colunadobroad itaú unibanco aposta novo modelo agências rumo banco futuro @estadao',\n",
       " 'iguatemi fecha parceria @ifood acirra concorrência entregas via shoppings foto helvio romero/estadão',\n",
       " 'três prioridades daqui diante segurança, pessoas reparação, diz presidente interino vale foto wilton júnior/estadão',\n",
       " 'atacada, cielo diz vai virar nova kodak #maquininhas #cielo @agenciaestado',\n",
       " 'fique olho mercado olha petrobras balança chinesa, previdência radar antes copom',\n",
       " 'fique olho comércio eua china nutre cautela meio espera previdência petrobras',\n",
       " '@colunadobroad tim deslancha ofea chamadas voz rede 4g @estadao']"
      ]
     },
     "execution_count": 26,
     "metadata": {},
     "output_type": "execute_result"
    }
   ],
   "source": [
    "from nltk.corpus import stopwords\n",
    "\n",
    "def Preprocessing(instancia):\n",
    "    instancia = re.sub(r\"http\\S+\", \"\", instancia).lower().replace('.','').replace(';','').replace('-','').replace(':','').replace(')','').replace('\"','').replace('rt','')\n",
    "    stopwords = set(nltk.corpus.stopwords.words('portuguese'))\n",
    "    palavras = [i for i in instancia.split() if not i in stopwords]\n",
    "    return (\" \".join(palavras))\n",
    "\n",
    "tweets = [Preprocessing(i) for i in tweets]\n",
    "\n",
    "tweets[:10]"
   ]
  },
  {
   "cell_type": "code",
   "execution_count": 27,
   "metadata": {},
   "outputs": [],
   "source": [
    "from nltk.tokenize import TweetTokenizer\n",
    "tweet_tokenizer = TweetTokenizer() "
   ]
  },
  {
   "cell_type": "code",
   "execution_count": 28,
   "metadata": {},
   "outputs": [
    {
     "data": {
      "text/plain": [
       "(2830, 4559)"
      ]
     },
     "execution_count": 28,
     "metadata": {},
     "output_type": "execute_result"
    }
   ],
   "source": [
    "vectorizer = CountVectorizer(analyzer=\"word\",  tokenizer=tweet_tokenizer.tokenize)\n",
    "#vectorizer = CountVectorizer(ngram_range = (1, 2))\n",
    "\n",
    "freq_tweets = vectorizer.fit_transform(tweets)\n",
    "\n",
    "freq_tweets.shape"
   ]
  },
  {
   "cell_type": "code",
   "execution_count": 29,
   "metadata": {},
   "outputs": [
    {
     "data": {
      "text/plain": [
       "MultinomialNB()"
      ]
     },
     "execution_count": 29,
     "metadata": {},
     "output_type": "execute_result"
    }
   ],
   "source": [
    "modelo = MultinomialNB()\n",
    "modelo.fit(freq_tweets, classes)\n",
    "modelo"
   ]
  },
  {
   "cell_type": "code",
   "execution_count": 30,
   "metadata": {},
   "outputs": [
    {
     "data": {
      "text/plain": [
       "array([ 0, -1,  0, ...,  1, -1,  0])"
      ]
     },
     "execution_count": 30,
     "metadata": {},
     "output_type": "execute_result"
    }
   ],
   "source": [
    "resultados = cross_val_predict(modelo, freq_tweets, classes, cv = 3)\n",
    "resultados"
   ]
  },
  {
   "cell_type": "code",
   "execution_count": 31,
   "metadata": {},
   "outputs": [
    {
     "data": {
      "text/plain": [
       "0.7187279151943463"
      ]
     },
     "execution_count": 31,
     "metadata": {},
     "output_type": "execute_result"
    }
   ],
   "source": [
    "metrics.accuracy_score(classes, resultados)"
   ]
  },
  {
   "cell_type": "code",
   "execution_count": 32,
   "metadata": {},
   "outputs": [
    {
     "name": "stdout",
     "output_type": "stream",
     "text": [
      "Predito   -1     0     1   All\n",
      "Real                          \n",
      "-1       236    27   133   396\n",
      "0        158   977   310  1445\n",
      "1         78    90   821   989\n",
      "All      472  1094  1264  2830\n"
     ]
    }
   ],
   "source": [
    "print(pd.crosstab(classes, resultados, rownames = [\"Real\"], colnames = [\"Predito\"], margins = True))"
   ]
  },
  {
   "cell_type": "code",
   "execution_count": 33,
   "metadata": {},
   "outputs": [
    {
     "data": {
      "text/html": [
       "<div>\n",
       "<style scoped>\n",
       "    .dataframe tbody tr th:only-of-type {\n",
       "        vertical-align: middle;\n",
       "    }\n",
       "\n",
       "    .dataframe tbody tr th {\n",
       "        vertical-align: top;\n",
       "    }\n",
       "\n",
       "    .dataframe thead th {\n",
       "        text-align: right;\n",
       "    }\n",
       "</style>\n",
       "<table border=\"1\" class=\"dataframe\">\n",
       "  <thead>\n",
       "    <tr style=\"text-align: right;\">\n",
       "      <th></th>\n",
       "      <th>id</th>\n",
       "      <th>texto</th>\n",
       "      <th>polaridade</th>\n",
       "      <th>sentimento</th>\n",
       "    </tr>\n",
       "  </thead>\n",
       "  <tbody>\n",
       "    <tr>\n",
       "      <th>0</th>\n",
       "      <td>1128984581330407424</td>\n",
       "      <td>RT @colunadobroad: Diretor afastado do BB é in...</td>\n",
       "      <td>0</td>\n",
       "      <td>0</td>\n",
       "    </tr>\n",
       "    <tr>\n",
       "      <th>1</th>\n",
       "      <td>1128600913092857856</td>\n",
       "      <td>Iguatemi vai repensar mix de lojistas para rev...</td>\n",
       "      <td>1</td>\n",
       "      <td>-1</td>\n",
       "    </tr>\n",
       "    <tr>\n",
       "      <th>2</th>\n",
       "      <td>1128245224294293504</td>\n",
       "      <td>RT @colunadobroad: IRB Brasil Re busca increme...</td>\n",
       "      <td>1</td>\n",
       "      <td>0</td>\n",
       "    </tr>\n",
       "    <tr>\n",
       "      <th>3</th>\n",
       "      <td>1127542253159952384</td>\n",
       "      <td>RT @colunadobroad: Itaú Unibanco aposta em nov...</td>\n",
       "      <td>1</td>\n",
       "      <td>1</td>\n",
       "    </tr>\n",
       "    <tr>\n",
       "      <th>4</th>\n",
       "      <td>1127153121363419137</td>\n",
       "      <td>Iguatemi fecha parceria com @iFood e acirra co...</td>\n",
       "      <td>1</td>\n",
       "      <td>1</td>\n",
       "    </tr>\n",
       "    <tr>\n",
       "      <th>...</th>\n",
       "      <td>...</td>\n",
       "      <td>...</td>\n",
       "      <td>...</td>\n",
       "      <td>...</td>\n",
       "    </tr>\n",
       "    <tr>\n",
       "      <th>2825</th>\n",
       "      <td>846478513842651136</td>\n",
       "      <td>CNF elege Sergio Rial, do Santander, como novo...</td>\n",
       "      <td>0</td>\n",
       "      <td>0</td>\n",
       "    </tr>\n",
       "    <tr>\n",
       "      <th>2826</th>\n",
       "      <td>846011317156827137</td>\n",
       "      <td>GPA mantém desejo, mas venda da via varejo atr...</td>\n",
       "      <td>0</td>\n",
       "      <td>1</td>\n",
       "    </tr>\n",
       "    <tr>\n",
       "      <th>2827</th>\n",
       "      <td>845265994608193536</td>\n",
       "      <td>Mal-estar entre Casino e Klein pode atrasar pr...</td>\n",
       "      <td>0</td>\n",
       "      <td>1</td>\n",
       "    </tr>\n",
       "    <tr>\n",
       "      <th>2828</th>\n",
       "      <td>844949553161932803</td>\n",
       "      <td>Controladores da Usiminas estão mais distantes...</td>\n",
       "      <td>0</td>\n",
       "      <td>-1</td>\n",
       "    </tr>\n",
       "    <tr>\n",
       "      <th>2829</th>\n",
       "      <td>844237866146447360</td>\n",
       "      <td>Patrice Etlin, da Advent, conversa com Michael...</td>\n",
       "      <td>0</td>\n",
       "      <td>0</td>\n",
       "    </tr>\n",
       "  </tbody>\n",
       "</table>\n",
       "<p>2830 rows × 4 columns</p>\n",
       "</div>"
      ],
      "text/plain": [
       "                       id                                              texto  \\\n",
       "0     1128984581330407424  RT @colunadobroad: Diretor afastado do BB é in...   \n",
       "1     1128600913092857856  Iguatemi vai repensar mix de lojistas para rev...   \n",
       "2     1128245224294293504  RT @colunadobroad: IRB Brasil Re busca increme...   \n",
       "3     1127542253159952384  RT @colunadobroad: Itaú Unibanco aposta em nov...   \n",
       "4     1127153121363419137  Iguatemi fecha parceria com @iFood e acirra co...   \n",
       "...                   ...                                                ...   \n",
       "2825   846478513842651136  CNF elege Sergio Rial, do Santander, como novo...   \n",
       "2826   846011317156827137  GPA mantém desejo, mas venda da via varejo atr...   \n",
       "2827   845265994608193536  Mal-estar entre Casino e Klein pode atrasar pr...   \n",
       "2828   844949553161932803  Controladores da Usiminas estão mais distantes...   \n",
       "2829   844237866146447360  Patrice Etlin, da Advent, conversa com Michael...   \n",
       "\n",
       "      polaridade  sentimento  \n",
       "0              0           0  \n",
       "1              1          -1  \n",
       "2              1           0  \n",
       "3              1           1  \n",
       "4              1           1  \n",
       "...          ...         ...  \n",
       "2825           0           0  \n",
       "2826           0           1  \n",
       "2827           0           1  \n",
       "2828           0          -1  \n",
       "2829           0           0  \n",
       "\n",
       "[2830 rows x 4 columns]"
      ]
     },
     "execution_count": 33,
     "metadata": {},
     "output_type": "execute_result"
    }
   ],
   "source": [
    "data_frame = pd.DataFrame(data = { \"id\": dataset[\"tweet_id\"], \"texto\": dataset[\"tweet\"],\"polaridade\": dataset[\"polaridade\"], \"sentimento\": resultados })\n",
    "data_frame"
   ]
  },
  {
   "cell_type": "code",
   "execution_count": 34,
   "metadata": {},
   "outputs": [],
   "source": [
    "data_frame.to_csv(\"tweets_classificados.csv\", index = True)"
   ]
  },
  {
   "cell_type": "code",
   "execution_count": null,
   "metadata": {},
   "outputs": [],
   "source": []
  }
 ],
 "metadata": {
  "kernelspec": {
   "display_name": "Python 3",
   "language": "python",
   "name": "python3"
  },
  "language_info": {
   "codemirror_mode": {
    "name": "ipython",
    "version": 3
   },
   "file_extension": ".py",
   "mimetype": "text/x-python",
   "name": "python",
   "nbconvert_exporter": "python",
   "pygments_lexer": "ipython3",
   "version": "3.7.7"
  }
 },
 "nbformat": 4,
 "nbformat_minor": 4
}
