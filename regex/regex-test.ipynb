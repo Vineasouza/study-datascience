{
 "cells": [
  {
   "cell_type": "code",
   "execution_count": 1,
   "metadata": {},
   "outputs": [],
   "source": [
    "import re"
   ]
  },
  {
   "cell_type": "code",
   "execution_count": 26,
   "metadata": {},
   "outputs": [
    {
     "name": "stdout",
     "output_type": "stream",
     "text": [
      "Match not found\n"
     ]
    }
   ],
   "source": [
    "teste = \"alura é top\"\n",
    "\n",
    "pattern = re.compile(r\"#?AZUL4|Azul|#?BBAS3|#?BB|BANCO DO BRASIL|#?BBDC[34]|BRADESCO|#?BBSE3|BBSE|BB SEGURIDADE|#?BRAP4|BRADESPAR|#?BRDT3|#?PETR[34]?|BR DISTRIBUIDORA|PETROBR[AÁ]S|#?BRFS3|BRF|#?BRKM5|BRASKEM|#?BRML3|BR MALLS|#?BTOW3|B2W|#?CCRO3|CCR|#?CIEL3|CIELO|#?CMIG4|CEMIG|#?CSAN3|COSAN|#?CSNA3|CSN|#?CVCB3|CVC|#?CYRE3|CYRELA|#?ECOR3|ECORODOVIAS|#?B3SA3|B3|#?EGIE3|ENGIE BRASIL|ENGIE|#?ELET[36]|ELETROBRAS|#?EMBR3|EMBRAER|#?ENBR3|Energias|#?EQTL3|Equatorial|#?ESTC3|ESTACIO|#?FLRY3|FLEURY|#?GGBR4|GOAU4|GERDAU|#?GOLL4|Gol|#?HYPE3|HYPERA|#?IGTA3|IGUATEMI|#?IRBR3|IRB BRASIL|IRB BRASIL RE|IRB|#?ITSA4|ITAÚSA|#?ITUB4|ITAÚ UNIBANCO|ITA[ÚU]|#?JBSS3|JBS|#?KLBN11|KLABIN|#?KROT3|KROTON|#?LAME4|Americanas|Lojas Americanas|#?LREN3|LOJAS RENNER|RENNER|#?MGLU3|MAGAZINE LUIZA|#?MRFG3|MARFRIG|#?MRVE3|MRV|#?MULT3|MULTIPLAN|#?NATU3|Natura|#?PCAR[34]?|PÃO DE AÇÚCAR|#?QUAL3|QUALICORP|#?RADL3|RAIA DROGASIL|#?RAIL3|Rumo|#?RENT3|Localiza|#?SANB11|SANTANDER|#?SBSP3|SABESP|#?SMLS3|SMILES|#?SUZB3|SUZANO|#?TAEE11|TAESA|#?TIMP3|TIM|#?UGPA3|ULTRAPAR|#?USIM5|USIMINAS|#?VALE3?|Vale|#?VIVT4|Telefônica Brasil|Vivo|#?VVAR3|VIA VAREJO|#?WEGE3|WEG\",  re.IGNORECASE)\n",
    "\n",
    "if re.search(pattern, teste):\n",
    "    print(\"Match found\")\n",
    "else:\n",
    "    print(\"Match not found\")"
   ]
  },
  {
   "cell_type": "code",
   "execution_count": null,
   "metadata": {},
   "outputs": [],
   "source": []
  }
 ],
 "metadata": {
  "kernelspec": {
   "display_name": "Python 3",
   "language": "python",
   "name": "python3"
  },
  "language_info": {
   "codemirror_mode": {
    "name": "ipython",
    "version": 3
   },
   "file_extension": ".py",
   "mimetype": "text/x-python",
   "name": "python",
   "nbconvert_exporter": "python",
   "pygments_lexer": "ipython3",
   "version": "3.7.7"
  }
 },
 "nbformat": 4,
 "nbformat_minor": 4
}
